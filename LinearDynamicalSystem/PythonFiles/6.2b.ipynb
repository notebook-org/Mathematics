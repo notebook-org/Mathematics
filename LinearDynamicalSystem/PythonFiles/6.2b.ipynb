{
 "cells": [
  {
   "cell_type": "code",
   "execution_count": 106,
   "metadata": {},
   "outputs": [],
   "source": [
    "import numpy as np\n",
    "import matplotlib.pyplot as plt"
   ]
  },
  {
   "cell_type": "code",
   "execution_count": 107,
   "metadata": {},
   "outputs": [],
   "source": [
    "def J1(A,x,y):\n",
    "    return np.linalg.norm(A.dot(x) - y)\n",
    "def J2(x):\n",
    "    return np.linalg.norm(x)\n",
    "def LS(A,y,mu):\n",
    "    I = np.identity(10)\n",
    "    x_ls = np.linalg.inv((A.transpose().dot(A)) + (mu * (I))).dot(A.transpose()).dot(y)\n",
    "    return x_ls"
   ]
  },
  {
   "cell_type": "code",
   "execution_count": 108,
   "metadata": {},
   "outputs": [],
   "source": [
    "A = np.array([[1,1,1,1,1,1,1,1,1,1],[19/2,17/2,15/2,13/2,11/2,9/2,7/2,5/2,3/2,1/2]])\n",
    "y = np.array([-1,-10])\n",
    "sz = 1000\n",
    "mu = 0.00001\n",
    "j1 = np.zeros(sz)\n",
    "j2 = np.zeros(sz)\n",
    "for i in range(0,sz,1):\n",
    "    mu = mu * 1.05\n",
    "    x_ls = LS(A,y,mu)\n",
    "    j1[i] = J1(A,x_ls,y)\n",
    "    j2[i] = J2(x_ls)"
   ]
  },
  {
   "cell_type": "code",
   "execution_count": 109,
   "metadata": {},
   "outputs": [
    {
     "data": {
      "image/png": "[encoded data removed]",
      "text/plain": [
       "<Figure size 432x288 with 1 Axes>"
      ]
     },
     "metadata": {
      "needs_background": "light"
     },
     "output_type": "display_data"
    }
   ],
   "source": [
    "plt.scatter(j2,j1)\n",
    "plt.show()"
   ]
  },
  {
   "cell_type": "code",
   "execution_count": null,
   "metadata": {},
   "outputs": [],
   "source": []
  }
 ],
 "metadata": {
  "kernelspec": {
   "display_name": "Python 3",
   "language": "python",
   "name": "python3"
  },
  "language_info": {
   "codemirror_mode": {
    "name": "ipython",
    "version": 3
   },
   "file_extension": ".py",
   "mimetype": "text/x-python",
   "name": "python",
   "nbconvert_exporter": "python",
   "pygments_lexer": "ipython3",
   "version": "3.6.9"
  }
 },
 "nbformat": 4,
 "nbformat_minor": 4
}
